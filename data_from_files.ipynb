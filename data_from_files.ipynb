{
 "cells": [
  {
   "cell_type": "code",
   "execution_count": null,
   "id": "initial_id",
   "metadata": {
    "collapsed": true
   },
   "outputs": [],
   "source": [
    "import librosa\n",
    "import numpy as np\n",
    "import matplotlib.pyplot as plt\n",
    "import pandas as pd\n",
    "from sklearn.model_selection import train_test_split\n",
    "from sklearn.preprocessing import StandardScaler\n",
    "from sklearn.ensemble import RandomForestClassifier\n",
    "import os\n",
    "import ast\n"
   ]
  },
  {
   "cell_type": "code",
   "outputs": [],
   "source": [
    "def list_files(directory, extension):\n",
    "    files = []\n",
    "    for file in os.listdir(directory):\n",
    "        if file.endswith(extension):\n",
    "            files.append(os.path.join(directory, file))\n",
    "            \n",
    "    return files"
   ],
   "metadata": {
    "collapsed": false
   },
   "id": "b71b52ed311ca3e2",
   "execution_count": null
  },
  {
   "cell_type": "code",
   "outputs": [],
   "source": [
    "lina = list_files(\"/Users/tom/Documents/IA/Voice Data/Lina/Combined/parsed\", 'mp3')\n",
    "martin = list_files(\"/Users/tom/Documents/IA/Voice Data/Martin/Combined/parsed\", 'mp3')\n",
    "ilyes = list_files(\"/Users/tom/Documents/IA/Voice Data/Ilyes/Combined/parsed\", 'mp3')"
   ],
   "metadata": {
    "collapsed": false
   },
   "id": "9bb7b5dba48e0624",
   "execution_count": null
  },
  {
   "cell_type": "code",
   "outputs": [],
   "source": [
    "def extract_features(file):\n",
    "    y, sr = librosa.load(file)\n",
    "    mfccs = librosa.feature.mfcc(y=y, sr=sr, n_mfcc=13)\n",
    "    mean_mfccs = np.mean(mfccs, axis=1)\n",
    "    mean_mfccs = np.array(mean_mfccs).reshape(1, -1)\n",
    "    return mean_mfccs"
   ],
   "metadata": {
    "collapsed": false
   },
   "id": "17cabfaae3946f97",
   "execution_count": null
  },
  {
   "cell_type": "code",
   "outputs": [],
   "source": [
    "def extract_features_from_files(files, name):\n",
    "    features = []\n",
    "    for file in files:\n",
    "        features.append(extract_features(file))\n",
    "        \n",
    "    data = np.concatenate(features)\n",
    "    df = pd.DataFrame(data)\n",
    "    df['name'] = name\n",
    "    return df"
   ],
   "metadata": {
    "collapsed": false
   },
   "id": "86a0e742693aeb8c",
   "execution_count": null
  },
  {
   "cell_type": "code",
   "outputs": [],
   "source": [
    "lina_df = extract_features_from_files(lina, \"Lina\")"
   ],
   "metadata": {
    "collapsed": false
   },
   "id": "5603ab968d7d9ed9",
   "execution_count": null
  },
  {
   "cell_type": "markdown",
   "source": [],
   "metadata": {
    "collapsed": false
   },
   "id": "60b4b02118ff4dff"
  },
  {
   "cell_type": "code",
   "outputs": [],
   "source": [
    "martin_df = extract_features_from_files(martin, \"Martin\")"
   ],
   "metadata": {
    "collapsed": false
   },
   "id": "7fb3145a9694c67a",
   "execution_count": null
  },
  {
   "cell_type": "code",
   "outputs": [],
   "source": [
    "ilyes_df = extract_features_from_files(ilyes, \"Ilyes\")"
   ],
   "metadata": {
    "collapsed": false
   },
   "id": "9e3d43842f8cdab3",
   "execution_count": null
  },
  {
   "cell_type": "code",
   "outputs": [],
   "source": [
    "df = pd.concat([lina_df, martin_df, ilyes_df])"
   ],
   "metadata": {
    "collapsed": false
   },
   "id": "ecdf4d89136bc8a7",
   "execution_count": null
  },
  {
   "cell_type": "code",
   "outputs": [],
   "source": [
    "X = df.drop('name', axis=1)\n",
    "y = df['name']\n",
    "scaler = StandardScaler()\n",
    "X = scaler.fit_transform(X)"
   ],
   "metadata": {
    "collapsed": false
   },
   "id": "bd9abdcfca73bd56",
   "execution_count": null
  },
  {
   "cell_type": "code",
   "outputs": [],
   "source": [
    "X_train, X_test, y_train, y_test = train_test_split(X, y, test_size=0.2)"
   ],
   "metadata": {
    "collapsed": false
   },
   "id": "b91a106652f7401c",
   "execution_count": null
  },
  {
   "cell_type": "code",
   "outputs": [],
   "source": [
    "clf = RandomForestClassifier(n_estimators=100)"
   ],
   "metadata": {
    "collapsed": false
   },
   "id": "5dcc53f33f0e7ce8",
   "execution_count": null
  },
  {
   "cell_type": "code",
   "outputs": [],
   "source": [
    "clf.fit(X_train, y_train)"
   ],
   "metadata": {
    "collapsed": false
   },
   "id": "4c93d528bab7656",
   "execution_count": null
  },
  {
   "cell_type": "code",
   "outputs": [],
   "source": [
    "clf.score(X_test, y_test)"
   ],
   "metadata": {
    "collapsed": false
   },
   "id": "6000c01c34dd912",
   "execution_count": null
  },
  {
   "cell_type": "code",
   "outputs": [],
   "source": [
    "clf.predict(X_test)"
   ],
   "metadata": {
    "collapsed": false
   },
   "id": "85c9c20b4f784b56",
   "execution_count": null
  },
  {
   "cell_type": "code",
   "outputs": [],
   "source": [
    "import pydub\n",
    "\n",
    "def convert_to_mp3_and_make_test_df(directory):\n",
    "    for file in os.listdir(directory):\n",
    "        if file.endswith('ogg'):\n",
    "            audio = pydub.AudioSegment.from_file(directory + file, format='ogg')\n",
    "            audio.export(directory + file.replace('ogg', 'mp3'), format='mp3')\n",
    "        \n",
    "    files = list_files(directory, 'mp3')\n",
    "    test_df = extract_features_from_files(files, directory.split('/')[-2])\n",
    "    X = scaler.transform(test_df.drop('name', axis=1))\n",
    "    y = test_df['name']\n",
    "    df = pd.DataFrame(X)\n",
    "    df['name'] = y\n",
    "    return df"
   ],
   "metadata": {
    "collapsed": false,
    "ExecuteTime": {
     "end_time": "2024-05-10T14:20:14.677970Z",
     "start_time": "2024-05-10T14:20:14.675957Z"
    }
   },
   "id": "511d2af846b4f197",
   "execution_count": 370
  },
  {
   "cell_type": "code",
   "outputs": [],
   "source": [
    "martin_df = convert_to_mp3_and_make_test_df(\"/Users/tom/Documents/IA/Voice Data/Test/Martin/\")\n",
    "lina_df = convert_to_mp3_and_make_test_df(\"/Users/tom/Documents/IA/Voice Data/Test/Lina/\")\n",
    "ilyes_df = convert_to_mp3_and_make_test_df(\"/Users/tom/Documents/IA/Voice Data/Test/Ilyes/\")"
   ],
   "metadata": {
    "collapsed": false,
    "ExecuteTime": {
     "end_time": "2024-05-10T14:20:17.803294Z",
     "start_time": "2024-05-10T14:20:15.090894Z"
    }
   },
   "id": "d010494bf268c9a7",
   "execution_count": 371
  },
  {
   "cell_type": "code",
   "outputs": [],
   "source": [
    "test = pd.concat([martin_df, lina_df, ilyes_df])\n",
    "\n",
    "y_pred = pd.Series(clf.predict(test.drop('name', axis=1)))\n",
    "y_true = test['name']\n",
    "\n",
    "y_true.reset_index(drop=True, inplace=True)"
   ],
   "metadata": {
    "collapsed": false,
    "ExecuteTime": {
     "end_time": "2024-05-10T14:27:08.285309Z",
     "start_time": "2024-05-10T14:27:08.279136Z"
    }
   },
   "id": "8407a44284de509",
   "execution_count": 399
  },
  {
   "cell_type": "code",
   "outputs": [
    {
     "name": "stdout",
     "output_type": "stream",
     "text": [
      "              precision    recall  f1-score   support\n",
      "\n",
      "       Ilyes       1.00      1.00      1.00         2\n",
      "        Lina       1.00      1.00      1.00         2\n",
      "      Martin       1.00      1.00      1.00         1\n",
      "\n",
      "    accuracy                           1.00         5\n",
      "   macro avg       1.00      1.00      1.00         5\n",
      "weighted avg       1.00      1.00      1.00         5\n"
     ]
    }
   ],
   "source": [
    "from sklearn.metrics import classification_report\n",
    "print(classification_report(y_true, y_pred))"
   ],
   "metadata": {
    "collapsed": false,
    "ExecuteTime": {
     "end_time": "2024-05-10T14:27:09.012354Z",
     "start_time": "2024-05-10T14:27:09.004174Z"
    }
   },
   "id": "41ead2b5ecdfc9",
   "execution_count": 400
  },
  {
   "cell_type": "code",
   "outputs": [],
   "source": [
    "df_proba = clf.predict_proba(test.drop('name', axis=1))\n",
    "\n",
    "df_proba = pd.DataFrame(df_proba, columns=clf.classes_ + '_proba')\n",
    "\n",
    "df_proba['predicted'] = y_pred\n",
    "df_proba['true'] = y_true\n"
   ],
   "metadata": {
    "collapsed": false,
    "ExecuteTime": {
     "end_time": "2024-05-10T14:27:20.379041Z",
     "start_time": "2024-05-10T14:27:20.377109Z"
    }
   },
   "id": "1796e3671702ab6c",
   "execution_count": 403
  },
  {
   "cell_type": "code",
   "outputs": [
    {
     "data": {
      "text/plain": "   Ilyes_proba  Lina_proba  Martin_proba predicted    true\n0         0.49        0.01          0.50    Martin  Martin\n1         0.20        0.78          0.02      Lina    Lina\n2         0.29        0.61          0.10      Lina    Lina\n3         0.99        0.01          0.00     Ilyes   Ilyes\n4         1.00        0.00          0.00     Ilyes   Ilyes",
      "text/html": "<div>\n<style scoped>\n    .dataframe tbody tr th:only-of-type {\n        vertical-align: middle;\n    }\n\n    .dataframe tbody tr th {\n        vertical-align: top;\n    }\n\n    .dataframe thead th {\n        text-align: right;\n    }\n</style>\n<table border=\"1\" class=\"dataframe\">\n  <thead>\n    <tr style=\"text-align: right;\">\n      <th></th>\n      <th>Ilyes_proba</th>\n      <th>Lina_proba</th>\n      <th>Martin_proba</th>\n      <th>predicted</th>\n      <th>true</th>\n    </tr>\n  </thead>\n  <tbody>\n    <tr>\n      <th>0</th>\n      <td>0.49</td>\n      <td>0.01</td>\n      <td>0.50</td>\n      <td>Martin</td>\n      <td>Martin</td>\n    </tr>\n    <tr>\n      <th>1</th>\n      <td>0.20</td>\n      <td>0.78</td>\n      <td>0.02</td>\n      <td>Lina</td>\n      <td>Lina</td>\n    </tr>\n    <tr>\n      <th>2</th>\n      <td>0.29</td>\n      <td>0.61</td>\n      <td>0.10</td>\n      <td>Lina</td>\n      <td>Lina</td>\n    </tr>\n    <tr>\n      <th>3</th>\n      <td>0.99</td>\n      <td>0.01</td>\n      <td>0.00</td>\n      <td>Ilyes</td>\n      <td>Ilyes</td>\n    </tr>\n    <tr>\n      <th>4</th>\n      <td>1.00</td>\n      <td>0.00</td>\n      <td>0.00</td>\n      <td>Ilyes</td>\n      <td>Ilyes</td>\n    </tr>\n  </tbody>\n</table>\n</div>"
     },
     "execution_count": 404,
     "metadata": {},
     "output_type": "execute_result"
    }
   ],
   "source": [
    "df_proba"
   ],
   "metadata": {
    "collapsed": false,
    "ExecuteTime": {
     "end_time": "2024-05-10T14:27:21.056871Z",
     "start_time": "2024-05-10T14:27:21.052154Z"
    }
   },
   "id": "304a67eca9f9e35b",
   "execution_count": 404
  },
  {
   "cell_type": "code",
   "outputs": [],
   "source": [],
   "metadata": {
    "collapsed": false
   },
   "id": "330cce30f51869ca"
  }
 ],
 "metadata": {
  "kernelspec": {
   "display_name": "Python 3",
   "language": "python",
   "name": "python3"
  },
  "language_info": {
   "codemirror_mode": {
    "name": "ipython",
    "version": 2
   },
   "file_extension": ".py",
   "mimetype": "text/x-python",
   "name": "python",
   "nbconvert_exporter": "python",
   "pygments_lexer": "ipython2",
   "version": "2.7.6"
  }
 },
 "nbformat": 4,
 "nbformat_minor": 5
}
